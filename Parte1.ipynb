{
 "cells": [
  {
   "cell_type": "markdown",
   "id": "69ad8c64",
   "metadata": {},
   "source": [
    "# Parte 1\n",
    "#### Michelle Mejía y Silvia Illescas"
   ]
  },
  {
   "cell_type": "markdown",
   "id": "5f9a59b8",
   "metadata": {},
   "source": [
    "1. ¿Qué diferencia hay entre un retraso de primer orden y una cadena de retrasos?\n",
    "\n",
    "\n",
    "Un retraso de primer orden es como una espera corta o simple. Es cuando una acción tarda un poco en mostrar efecto, como cuando enciendes un calentador y el agua se calienta poco a poco. Una cadena de retrasos es una serie de esperas conectadas. Es como si el agua tuviera que pasar por varios tubos antes de salir caliente. Es más realista para cosas que no cambian de golpe.\n",
    "\n",
    "El retraso de primer orden es simple y rápido, la cadena de retrasos representa mejor los procesos que toman más tiempo en notarse."
   ]
  },
  {
   "cell_type": "markdown",
   "id": "70a99055",
   "metadata": {},
   "source": [
    "2. ¿Qué diferencia hay entre fuerza de infección (λ) y número básico de reproducción (R₀)?\n",
    "\n",
    "\n",
    "La fuerza de infección (λ) es cuánto riesgo hay, en este momento, de que una persona se contagie. Depende de cuántos infectados hay ahora. El número básico de reproducción (R₀) nos dice cuántas personas puede contagiar, en promedio, una persona infectada si nadie está vacunado.\n",
    "\n",
    "λ cambia con el tiempo según la situación. R₀ es un valor fijo que nos ayuda a saber qué tan contagiosa es una enfermedad desde el inicio."
   ]
  },
  {
   "cell_type": "markdown",
   "id": "e4960793",
   "metadata": {},
   "source": [
    "3. ¿Por qué el sarampión necesita más del 95% de vacunación y el ébola solo cerca del 50%?\n",
    "Porque el sarampión se contagia muchísimo más que el ébola. Una persona con sarampión puede contagiar a 12–18 personas, mientras que con ébola, a unas 2.\n",
    "\n",
    "Si una enfermedad se transmite muy fácil (como el sarampión), necesitamos que casi todos estén vacunados para evitar brotes. Por eso el mínimo de vacunación es mayor. Esto se debe a la diferencia en el R₀ de ambas enfermedades. El sarampión tiene un R₀ entre 12 y 18, uno de los más altos, lo que implica una altísima transmisibilidad. Y calculando su cobertura mímina, 1 - 1/  R₀, Sarampión = 95%, Ébola = 50%. Por lo tanto, se necesita una cobertura mayor para detener la propagación del sarampión que del ébola."
   ]
  },
  {
   "cell_type": "markdown",
   "id": "f9fdca9d",
   "metadata": {},
   "source": [
    "4. ¿Cómo cambian los equilibrios de Nash si se exige vacunación?\n",
    "\n",
    "\n",
    "En juegos o decisiones en grupo, algunas personas prefieren no vacunarse esperando que otros sí lo hagan (los individuos eligen estrategias para maximizar su beneficio personal). Pero si el gobierno obliga a vacunarse (por ejemplo, para poder ir a la escuela), esa opción desaparece. Entonces todos tienen que cooperar. Eso cambia el equilibrio y mejora la protección para todos.\n",
    "\n"
   ]
  },
  {
   "cell_type": "markdown",
   "id": "17bac06e",
   "metadata": {},
   "source": [
    "5. ¿Qué es la lotería de vacunas de Ohio?\n",
    "\n",
    "Fue una campaña donde, si te vacunabas, podías ganar dinero en sorteos. Fue una forma de motivar a la gente usando premios. Es una medida conductual, porque trata de influir en las decisiones usando incentivos."
   ]
  },
  {
   "cell_type": "markdown",
   "id": "342aac7f",
   "metadata": {},
   "source": [
    "6. ¿Qué son las exigencias escolares en Francia?\n",
    "\n",
    "En Francia, los niños deben estar vacunados para poder entrar a la escuela. Es una regla fija del gobierno. Es una medida estructural, a diferencia de la lotería de vacunas, porque cambia las reglas del entorno para que más personas se vacunen.\n",
    "\n"
   ]
  },
  {
   "cell_type": "markdown",
   "id": "3961ab73",
   "metadata": {},
   "source": [
    "La lotería de Ohio actúa sobre la motivación individual, buscando voluntariedad mediante recompensas. Las exigencias escolares en Francia imponen una condición obligatoria, alterando directamente el comportamiento mediante normas."
   ]
  }
 ],
 "metadata": {
  "kernelspec": {
   "display_name": "Python 3",
   "language": "python",
   "name": "python3"
  },
  "language_info": {
   "codemirror_mode": {
    "name": "ipython",
    "version": 3
   },
   "file_extension": ".py",
   "mimetype": "text/x-python",
   "name": "python",
   "nbconvert_exporter": "python",
   "pygments_lexer": "ipython3",
   "version": "3.11.9"
  }
 },
 "nbformat": 4,
 "nbformat_minor": 5
}
